{
  "nbformat": 4,
  "nbformat_minor": 0,
  "metadata": {
    "accelerator": "GPU",
    "colab": {
      "name": "DL_Lab4.ipynb",
      "provenance": [],
      "collapsed_sections": []
    },
    "kernelspec": {
      "name": "python3",
      "display_name": "Python 3"
    },
    "pycharm": {
      "stem_cell": {
        "cell_type": "raw",
        "metadata": {
          "collapsed": false
        },
        "source": []
      }
    },
    "widgets": {
      "application/vnd.jupyter.widget-state+json": {
        "3fef77c23bfc47e89556a612152df9d1": {
          "model_module": "@jupyter-widgets/controls",
          "model_name": "HBoxModel",
          "state": {
            "_view_name": "HBoxView",
            "_dom_classes": [],
            "_model_name": "HBoxModel",
            "_view_module": "@jupyter-widgets/controls",
            "_model_module_version": "1.5.0",
            "_view_count": null,
            "_view_module_version": "1.5.0",
            "box_style": "",
            "layout": "IPY_MODEL_6efb6a6f507f4c9c8233fd073e3a2215",
            "_model_module": "@jupyter-widgets/controls",
            "children": [
              "IPY_MODEL_60592fab8f8f47b389842ea1e6f40273",
              "IPY_MODEL_474c776785fd460d9f4171d1abcb671d"
            ]
          }
        },
        "6efb6a6f507f4c9c8233fd073e3a2215": {
          "model_module": "@jupyter-widgets/base",
          "model_name": "LayoutModel",
          "state": {
            "_view_name": "LayoutView",
            "grid_template_rows": null,
            "right": null,
            "justify_content": null,
            "_view_module": "@jupyter-widgets/base",
            "overflow": null,
            "_model_module_version": "1.2.0",
            "_view_count": null,
            "flex_flow": null,
            "width": null,
            "min_width": null,
            "border": null,
            "align_items": null,
            "bottom": null,
            "_model_module": "@jupyter-widgets/base",
            "top": null,
            "grid_column": null,
            "overflow_y": null,
            "overflow_x": null,
            "grid_auto_flow": null,
            "grid_area": null,
            "grid_template_columns": null,
            "flex": null,
            "_model_name": "LayoutModel",
            "justify_items": null,
            "grid_row": null,
            "max_height": null,
            "align_content": null,
            "visibility": null,
            "align_self": null,
            "height": null,
            "min_height": null,
            "padding": null,
            "grid_auto_rows": null,
            "grid_gap": null,
            "max_width": null,
            "order": null,
            "_view_module_version": "1.2.0",
            "grid_template_areas": null,
            "object_position": null,
            "object_fit": null,
            "grid_auto_columns": null,
            "margin": null,
            "display": null,
            "left": null
          }
        },
        "60592fab8f8f47b389842ea1e6f40273": {
          "model_module": "@jupyter-widgets/controls",
          "model_name": "FloatProgressModel",
          "state": {
            "_view_name": "ProgressView",
            "style": "IPY_MODEL_6c42fe4d68ed4fdc85b93b22d85b76b1",
            "_dom_classes": [],
            "description": "",
            "_model_name": "FloatProgressModel",
            "bar_style": "info",
            "max": 1,
            "_view_module": "@jupyter-widgets/controls",
            "_model_module_version": "1.5.0",
            "value": 1,
            "_view_count": null,
            "_view_module_version": "1.5.0",
            "orientation": "horizontal",
            "min": 0,
            "description_tooltip": null,
            "_model_module": "@jupyter-widgets/controls",
            "layout": "IPY_MODEL_733bfbc10d554c06a94f063ab6bd825c"
          }
        },
        "474c776785fd460d9f4171d1abcb671d": {
          "model_module": "@jupyter-widgets/controls",
          "model_name": "HTMLModel",
          "state": {
            "_view_name": "HTMLView",
            "style": "IPY_MODEL_5afa80ae98f54c9fa7753fe9e03886da",
            "_dom_classes": [],
            "description": "",
            "_model_name": "HTMLModel",
            "placeholder": "​",
            "_view_module": "@jupyter-widgets/controls",
            "_model_module_version": "1.5.0",
            "value": " 2750496768/? [00:50&lt;00:00, 49787498.06it/s]",
            "_view_count": null,
            "_view_module_version": "1.5.0",
            "description_tooltip": null,
            "_model_module": "@jupyter-widgets/controls",
            "layout": "IPY_MODEL_6a7ea26c2547494ebcb7137751daf4a5"
          }
        },
        "6c42fe4d68ed4fdc85b93b22d85b76b1": {
          "model_module": "@jupyter-widgets/controls",
          "model_name": "ProgressStyleModel",
          "state": {
            "_view_name": "StyleView",
            "_model_name": "ProgressStyleModel",
            "description_width": "initial",
            "_view_module": "@jupyter-widgets/base",
            "_model_module_version": "1.5.0",
            "_view_count": null,
            "_view_module_version": "1.2.0",
            "bar_color": null,
            "_model_module": "@jupyter-widgets/controls"
          }
        },
        "733bfbc10d554c06a94f063ab6bd825c": {
          "model_module": "@jupyter-widgets/base",
          "model_name": "LayoutModel",
          "state": {
            "_view_name": "LayoutView",
            "grid_template_rows": null,
            "right": null,
            "justify_content": null,
            "_view_module": "@jupyter-widgets/base",
            "overflow": null,
            "_model_module_version": "1.2.0",
            "_view_count": null,
            "flex_flow": null,
            "width": null,
            "min_width": null,
            "border": null,
            "align_items": null,
            "bottom": null,
            "_model_module": "@jupyter-widgets/base",
            "top": null,
            "grid_column": null,
            "overflow_y": null,
            "overflow_x": null,
            "grid_auto_flow": null,
            "grid_area": null,
            "grid_template_columns": null,
            "flex": null,
            "_model_name": "LayoutModel",
            "justify_items": null,
            "grid_row": null,
            "max_height": null,
            "align_content": null,
            "visibility": null,
            "align_self": null,
            "height": null,
            "min_height": null,
            "padding": null,
            "grid_auto_rows": null,
            "grid_gap": null,
            "max_width": null,
            "order": null,
            "_view_module_version": "1.2.0",
            "grid_template_areas": null,
            "object_position": null,
            "object_fit": null,
            "grid_auto_columns": null,
            "margin": null,
            "display": null,
            "left": null
          }
        },
        "5afa80ae98f54c9fa7753fe9e03886da": {
          "model_module": "@jupyter-widgets/controls",
          "model_name": "DescriptionStyleModel",
          "state": {
            "_view_name": "StyleView",
            "_model_name": "DescriptionStyleModel",
            "description_width": "",
            "_view_module": "@jupyter-widgets/base",
            "_model_module_version": "1.5.0",
            "_view_count": null,
            "_view_module_version": "1.2.0",
            "_model_module": "@jupyter-widgets/controls"
          }
        },
        "6a7ea26c2547494ebcb7137751daf4a5": {
          "model_module": "@jupyter-widgets/base",
          "model_name": "LayoutModel",
          "state": {
            "_view_name": "LayoutView",
            "grid_template_rows": null,
            "right": null,
            "justify_content": null,
            "_view_module": "@jupyter-widgets/base",
            "overflow": null,
            "_model_module_version": "1.2.0",
            "_view_count": null,
            "flex_flow": null,
            "width": null,
            "min_width": null,
            "border": null,
            "align_items": null,
            "bottom": null,
            "_model_module": "@jupyter-widgets/base",
            "top": null,
            "grid_column": null,
            "overflow_y": null,
            "overflow_x": null,
            "grid_auto_flow": null,
            "grid_area": null,
            "grid_template_columns": null,
            "flex": null,
            "_model_name": "LayoutModel",
            "justify_items": null,
            "grid_row": null,
            "max_height": null,
            "align_content": null,
            "visibility": null,
            "align_self": null,
            "height": null,
            "min_height": null,
            "padding": null,
            "grid_auto_rows": null,
            "grid_gap": null,
            "max_width": null,
            "order": null,
            "_view_module_version": "1.2.0",
            "grid_template_areas": null,
            "object_position": null,
            "object_fit": null,
            "grid_auto_columns": null,
            "margin": null,
            "display": null,
            "left": null
          }
        }
      }
    }
  },
  "cells": [
    {
      "cell_type": "markdown",
      "metadata": {
        "id": "tpnN_XZwq_vc"
      },
      "source": [
        "<a href=\"https://colab.research.google.com/github/wingated/cs474_labs_f2019/blob/master/DL_Lab4.ipynb\" target=\"_parent\"><img src=\"https://colab.research.google.com/assets/colab-badge.svg\" alt=\"Open In Colab\"/></a>"
      ]
    },
    {
      "cell_type": "markdown",
      "metadata": {
        "id": "view-in-github"
      },
      "source": [
        "# Lab 4: Cancer Detection\n",
        "\n",
        "## Objective\n",
        "* To build a dense prediction model\n",
        "* To begin reading current papers in DNN research\n",
        "\n",
        "## Deliverable\n",
        "For this lab, you will turn in a notebook that describes your efforts at creating\n",
        "a pytorch radiologist. Your final deliverable is a notebook that has (1) deep network,\n",
        "(2) cost function, (3) method of calculating accuracy,\n",
        "(4) an image that shows the dense prediction produced by your network on the pos_test_000072.png image (index 172 in the validation dataset).\n",
        "This is an image in the test set that your network will not have seen before.\n",
        "This image, and the ground truth labeling, is shown below.\n",
        "(And is contained in the downloadable dataset below).\n",
        "\n",
        "![](http://liftothers.org/dokuwiki/lib/exe/fetch.php?w=200&tok=a8ac31&media=cs501r_f2016:pos_test_000072_output.png)\n",
        "<img src=\"http://liftothers.org/dokuwiki/lib/exe/fetch.php?media=cs501r_f2016:pos_test_000072.png\" width=\"200\">\n",
        "\n",
        "\n",
        "## Grading standards\n",
        "Your notebook will be graded on the following:\n",
        "* 40% Proper design, creation and debugging of a dense prediction network\n",
        "* 40% Proper implementation of a loss function and train/test set accuracy measure\n",
        "* 10% Tidy visualizations of loss and accuracy of your dense predictor during training\n",
        "* 10% Test image output\n",
        "\n",
        "\n",
        "## Data set\n",
        "The data is given as a set of 1024×1024 PNG images. Each input image (in \n",
        "the ```inputs``` directory) is an RGB image of a section of tissue,\n",
        "and there a file with the same name (in the ```outputs``` directory) \n",
        "that has a dense labeling of whether or not a section of tissue is cancerous\n",
        "(white pixels mean “cancerous”, while black pixels mean “not cancerous”).\n",
        "\n",
        "The data has been pre-split for you into test and training splits.\n",
        "Filenames also reflect whether or not the image has any cancer at all \n",
        "(files starting with ```pos_``` have some cancerous pixels, while files \n",
        "starting with ```neg_``` have no cancer anywhere).\n",
        "All of the data is hand-labeled, so the dataset is not very large.\n",
        "That means that overfitting is a real possibility.\n",
        "\n",
        "## Description\n",
        "For a video including some tips and tricks that can help with this lab: [https://youtu.be/Ms19kgK_D8w](https://youtu.be/Ms19kgK_D8w)\n",
        "For this lab, you will implement a virtual radiologist.\n",
        "You are given images of possibly cancerous tissue samples, \n",
        "and you must build a detector that identifies where in the tissue cancer may reside.\n",
        "\n",
        "---\n",
        "\n",
        "### Part 0\n",
        "Watch and follow video tutorial:\n",
        "\n",
        "https://youtu.be/Ms19kgK_D8w\n",
        "\n",
        "**TODO:**\n",
        "\n",
        "\n",
        "**DONE:**\n",
        "\n",
        "* Watch tutorial\n",
        "\n",
        "\n",
        "### Part 1\n",
        "Implement a dense predictor\n",
        "\n",
        "In previous labs and lectures, we have talked about DNNs that classify an \n",
        "entire image as a single class. Here, however, we are interested in a more nuanced classification: \n",
        "given an input image, we would like to identify each pixel that is possibly cancerous. \n",
        "That means that instead of a single output, your network should output an “image”, \n",
        "where each output pixel of your network represents the probability that a pixel is cancerous.\n",
        "\n",
        "___\n",
        "\n",
        "### Part 1a\n",
        "Implement your network topology\n",
        "\n",
        "\n",
        "Use the “Deep Convolution U-Net” from this paper: [(U-Net: Convolutional Networks for Biomedical Image Segmentation)](https://arxiv.org/pdf/1505.04597.pdf) \n",
        "\n",
        "![(Figure 1)](https://lh3.googleusercontent.com/qnHiB3B2KRxC3NjiSDtY08_DgDGTDsHcO6PP53oNRuct-p2QXCR-gyLkDveO850F2tTAhIOPC5Ha06NP9xq1JPsVAHlQ5UXA5V-9zkUrJHGhP_MNHFoRGnjBz1vn1p8P2rMWhlAb6HQ=w2400)\n",
        "\n",
        "You should use existing pytorch functions (not your own Conv2D module), such as ```nn.Conv2d``` and ```nn.CrossEntropyLoss```;\n",
        "you will also need the pytorch function ```torch.cat``` and ```nn.ConvTranspose2d```\n",
        "\n",
        "```torch.cat``` allows you to concatenate tensors.\n",
        "```nn.ConvTranspose2d``` is the opposite of ```nn.Conv2d```.\n",
        "It is used to bring an image from low res to higher res.\n",
        "[This blog](https://towardsdatascience.com/up-sampling-with-transposed-convolution-9ae4f2df52d0) should help you understand this function in detail.\n",
        "\n",
        "Note that the simplest network you could implement (with all the desired properties)\n",
        "is just a single convolution layer with two filters and no relu! \n",
        "Why is that? (of course it wouldn't work very well!)\n",
        "\n",
        "**TODO:**\n",
        "\n",
        "* Understand ConvTranspose\n",
        "\n",
        "**DONE:**\n",
        "\n",
        "* Understand the U-Net architecture\n",
        "* Understand concatenation of inputs from multiple prior layers\n",
        "* Answer Question / Reflect on simplest network with the desired properties\n",
        "\n",
        "\n",
        "\n",
        "___\n",
        "The intention of this lab is to learn how to make deep neural nets and implement loss function.\n",
        "Therefore we'll help you with the implementation of Dataset.\n",
        "This code will download the dataset for you so that you are ready to use it and focus on network\n",
        "implementation, losses and accuracies."
      ]
    },
    {
      "cell_type": "code",
      "metadata": {
        "id": "wQOefmcZVgTl",
        "pycharm": {
          "is_executing": false
        },
        "outputId": "9afd3b1a-0d0a-4998-9592-a78de6021825",
        "colab": {
          "base_uri": "https://localhost:8080/",
          "height": 173
        }
      },
      "source": [
        "!pip3 install torch\n",
        "!pip3 install torchvision\n",
        "!pip3 install tqdm\n",
        "\n",
        "import torch\n",
        "import torch.nn as nn\n",
        "import torch.nn.functional as F\n",
        "import torch.optim as optim\n",
        "from torch.utils.data import Dataset, DataLoader\n",
        "import numpy as np\n",
        "import matplotlib.pyplot as plt\n",
        "from torchvision import transforms, utils, datasets\n",
        "from tqdm import tqdm\n",
        "from torch.nn.parameter import Parameter\n",
        "import pdb\n",
        "import torchvision\n",
        "import os\n",
        "import gzip\n",
        "import tarfile\n",
        "import gc\n",
        "from IPython.core.ultratb import AutoFormattedTB\n",
        "# __ITB__ = AutoFormattedTB(mode = 'Verbose',color_scheme='LightBg', tb_offset = 1)\n",
        "__ITB__ = AutoFormattedTB(mode = 'Verbose',color_scheme='LightBg')\n",
        "\n",
        "\n",
        "assert torch.cuda.is_available(), \"You need to request a GPU from Runtime > Change Runtime\""
      ],
      "execution_count": 1,
      "outputs": [
        {
          "output_type": "stream",
          "text": [
            "Requirement already satisfied: torch in /usr/local/lib/python3.6/dist-packages (1.6.0+cu101)\n",
            "Requirement already satisfied: future in /usr/local/lib/python3.6/dist-packages (from torch) (0.16.0)\n",
            "Requirement already satisfied: numpy in /usr/local/lib/python3.6/dist-packages (from torch) (1.18.5)\n",
            "Requirement already satisfied: torchvision in /usr/local/lib/python3.6/dist-packages (0.7.0+cu101)\n",
            "Requirement already satisfied: torch==1.6.0 in /usr/local/lib/python3.6/dist-packages (from torchvision) (1.6.0+cu101)\n",
            "Requirement already satisfied: numpy in /usr/local/lib/python3.6/dist-packages (from torchvision) (1.18.5)\n",
            "Requirement already satisfied: pillow>=4.1.1 in /usr/local/lib/python3.6/dist-packages (from torchvision) (7.0.0)\n",
            "Requirement already satisfied: future in /usr/local/lib/python3.6/dist-packages (from torch==1.6.0->torchvision) (0.16.0)\n",
            "Requirement already satisfied: tqdm in /usr/local/lib/python3.6/dist-packages (4.41.1)\n"
          ],
          "name": "stdout"
        }
      ]
    },
    {
      "cell_type": "markdown",
      "metadata": {
        "id": "49quyvIJvTq8"
      },
      "source": [
        "WARNING: You may run into an error that says \"RuntimeError: CUDA out of memory.\"\n",
        "\n",
        "In this case, the memory required for your batch is larger than what the GPU is capable of. You can solve this problem by adjusting the image size or the batch size and then restarting the runtime. "
      ]
    },
    {
      "cell_type": "code",
      "metadata": {
        "id": "Il_53HLSWPTY"
      },
      "source": [
        "class CancerDataset(Dataset):\n",
        "  def __init__(self, root, download=True, size=512, train=True):\n",
        "    if download and not os.path.exists(os.path.join(root, 'cancer_data')):\n",
        "      datasets.utils.download_url('http://liftothers.org/cancer_data.tar.gz', root, 'cancer_data.tar.gz', None)\n",
        "      self.extract_gzip(os.path.join(root, 'cancer_data.tar.gz'))\n",
        "      self.extract_tar(os.path.join(root, 'cancer_data.tar'))\n",
        "    \n",
        "    postfix = 'train' if train else 'test'\n",
        "    root = os.path.join(root, 'cancer_data', 'cancer_data')\n",
        "    self.dataset_folder = torchvision.datasets.ImageFolder(os.path.join(root, 'inputs_' + postfix) ,transform = transforms.Compose([transforms.Resize(size),transforms.ToTensor()]))\n",
        "    self.label_folder = torchvision.datasets.ImageFolder(os.path.join(root, 'outputs_' + postfix) ,transform = transforms.Compose([transforms.Resize(size),transforms.ToTensor()]))\n",
        "\n",
        "  @staticmethod\n",
        "  def extract_gzip(gzip_path, remove_finished=False):\n",
        "    print('Extracting {}'.format(gzip_path))\n",
        "    with open(gzip_path.replace('.gz', ''), 'wb') as out_f, gzip.GzipFile(gzip_path) as zip_f:\n",
        "      out_f.write(zip_f.read())\n",
        "    if remove_finished:\n",
        "      os.unlink(gzip_path)\n",
        "  \n",
        "  @staticmethod\n",
        "  def extract_tar(tar_path):\n",
        "    print('Untarring {}'.format(tar_path))\n",
        "    z = tarfile.TarFile(tar_path)\n",
        "    z.extractall(tar_path.replace('.tar', ''))\n",
        "\n",
        "  def __getitem__(self,index):\n",
        "    img = self.dataset_folder[index]\n",
        "    label = self.label_folder[index]\n",
        "    return img[0],label[0][0]\n",
        "  \n",
        "  def __len__(self):\n",
        "    return len(self.dataset_folder)"
      ],
      "execution_count": 2,
      "outputs": []
    },
    {
      "cell_type": "markdown",
      "metadata": {
        "id": "QY4owfQwm-Ni"
      },
      "source": [
        "___\n",
        "\n",
        "### Part 1b\n",
        "Implement a cost function\n",
        "\n",
        "You should still use cross-entropy as your cost function, but you may need to think hard about how exactly to set this up – your network should output cancer/not-cancer probabilities for each pixel, which can be viewed as a two-class classification problem.\n",
        "\n",
        "**TODO:**\n",
        "\n",
        "\n",
        "**DONE:**\n",
        "\n",
        "* Adapt CrossEntropyLoss for 2 class pixel classification\n"
      ]
    },
    {
      "cell_type": "code",
      "metadata": {
        "id": "XPgrP88aOtfy"
      },
      "source": [
        "# You'll probably want a function or something to test input / output sizes of the ConvTranspose2d layer\n"
      ],
      "execution_count": 3,
      "outputs": []
    },
    {
      "cell_type": "code",
      "metadata": {
        "id": "jq22IyKanxo_"
      },
      "source": [
        "# Since you will be using the output of one network in two places(convolution and maxpooling),\n",
        "# you can't use nn.Sequential.\n",
        "# Instead you will write up the network like normal variable assignment as the example shown below:\n",
        "# You are welcome (and encouraged) to use the built-in batch normalization and dropout layer.\n",
        "\n",
        "# TODO: You need to change this to fit the UNet structure!!!\n",
        "\n",
        "# accross\n",
        "class SubUModule(nn.Module):\n",
        "  def __init__(self, in_channels, out_channels):\n",
        "    super(SubUModule, self).__init__()\n",
        "\n",
        "    self.net = nn.Sequential(nn.Conv2d(in_channels, out_channels, kernel_size = 3, stride = 1, padding = 1),\n",
        "                             nn.ReLU(),\n",
        "                             nn.Conv2d(out_channels, out_channels, kernel_size = 3, stride = 1, padding = 1),\n",
        "                             nn.ReLU())\n",
        "  def forward(self, x):\n",
        "    # print('sub', x.size())\n",
        "    return self.net(x)\n",
        "\n",
        "# down accross\n",
        "class DownSubUModule(nn.Module):\n",
        "  def __init__(self, in_channels, out_channels):\n",
        "    super(DownSubUModule, self).__init__()\n",
        "    \n",
        "    self.net = nn.Sequential(nn.MaxPool2d(kernel_size = 2, stride = 2),\n",
        "                             SubUModule(in_channels, out_channels))\n",
        "    \n",
        "  def forward(self, x):\n",
        "    # print('down', x.size())\n",
        "    return self.net(x)\n",
        "\n",
        "# accross up\n",
        "class UpSubUModule(nn.Module):\n",
        "  def __init__(self, in_channels, out_channels):\n",
        "    super(UpSubUModule, self).__init__()\n",
        "\n",
        "    self.net = nn.Sequential(SubUModule(in_channels, out_channels),\n",
        "                            nn.ConvTranspose2d(in_channels=out_channels, out_channels=out_channels, kernel_size=2, stride= 2))\n",
        "\n",
        "  def forward(self, x):\n",
        "    # print('up', x.size())\n",
        "    return self.net(x)\n",
        "\n",
        "# down, accross, up\n",
        "class BottomSubUModule(nn.Module):\n",
        "  def __init__(self, in_channels, out_channels, mid_channels=None):\n",
        "    super(BottomSubUModule, self).__init__()\n",
        "\n",
        "    self.mid_channels = out_channels * 2 if mid_channels is None else mid_channels\n",
        "\n",
        "    self.net = nn.Sequential(nn.MaxPool2d(kernel_size = 2, stride = 2),\n",
        "                             SubUModule(in_channels, self.mid_channels),\n",
        "                             nn.ConvTranspose2d(in_channels=self.mid_channels, out_channels=out_channels, kernel_size=2, stride = 2))\n",
        "    \n",
        "  def forward(self, x):\n",
        "    # print('bot', x.size())\n",
        "    return self.net(x)\n",
        "\n",
        "class CancerDetection(nn.Module):\n",
        "  def __init__(self):\n",
        "    super(CancerDetection, self).__init__()\n",
        "    # x, y = dataset[0]\n",
        "    # self.levels = 3\n",
        "    # print('x size: ', x.size())\n",
        "\n",
        "    # o = (input - kernel) + 2 * padding + 1\n",
        "\n",
        "    # 3x1024x1024\n",
        "    # (1024 - 3) + 2 * 1 + 1 -> 1024\n",
        "    levels = 3\n",
        "    in_channels = 3\n",
        "    next_channels = 64\n",
        "\n",
        "    self.down = nn.ModuleList()   \n",
        "    self.down.append(SubUModule(in_channels, next_channels)) # in 3 out 64\n",
        "    for _ in range(levels):\n",
        "      in_channels = next_channels\n",
        "      next_channels *= 2\n",
        "      # print(in_channels, next_channels)\n",
        "      self.down.append(DownSubUModule(in_channels, next_channels))\n",
        "\n",
        "    self.bottom = BottomSubUModule(next_channels, next_channels) # in 1024 out 512\n",
        "\n",
        "    self.upwards = nn.ModuleList()\n",
        "    for _ in range(levels):\n",
        "      in_channels = next_channels\n",
        "      next_channels = int(next_channels / 2)\n",
        "      self.upwards.append(UpSubUModule(in_channels * 2, next_channels))\n",
        "      # print(in_channels * 2, next_channels)\n",
        "    \n",
        "    # should have in->128 next->64\n",
        "    in_channels = int(in_channels / 2)\n",
        "    self.upwards.append(SubUModule(in_channels * 2, next_channels))# in 128 with cat, out 64\n",
        "\n",
        "    in_channels = next_channels\n",
        "    next_channels = 2\n",
        "    self.to_two = nn.Conv2d(in_channels, next_channels, kernel_size=1) # in 64, out 2\n",
        "\n",
        "    \n",
        " \n",
        "  def forward(self, input):\n",
        "    down_results = []\n",
        "    for i, layer in enumerate(self.down):\n",
        "      if len(down_results) > 0:\n",
        "        down_results.append(layer(down_results[-1]))\n",
        "      else:\n",
        "        down_results.append(layer(input))\n",
        "    \n",
        "    bottom_results = self.bottom(down_results[-1])\n",
        "\n",
        "    upward_result = None\n",
        "    for i, layer in enumerate(self.upwards):\n",
        "      if upward_result is None:\n",
        "        upward_result = layer(torch.cat((down_results.pop(), bottom_results), axis = 1))\n",
        "      else:\n",
        "        upward_result = layer(torch.cat((down_results.pop(), upward_result), axis=1))\n",
        "\n",
        "    return self.to_two(upward_result)\n",
        "\n"
      ],
      "execution_count": 4,
      "outputs": []
    },
    {
      "cell_type": "code",
      "metadata": {
        "id": "NAjagHCdGNAh"
      },
      "source": [
        "# Create your datasets, dataloaders and neural network as you have before\n",
        "# Tip: Pass shuffle=True to constructor for training dataloader\n",
        "def calc_accuracy(yhat, ytruth):\n",
        "  return (yhat.argmax(1) == ytruth).float().mean().item()"
      ],
      "execution_count": 6,
      "outputs": []
    },
    {
      "cell_type": "code",
      "metadata": {
        "id": "RkieTbwlYWPS",
        "outputId": "63c88db2-4698-4c2e-d045-fddc4f5b97f1",
        "colab": {
          "base_uri": "https://localhost:8080/",
          "height": 136,
          "referenced_widgets": [
            "3fef77c23bfc47e89556a612152df9d1",
            "6efb6a6f507f4c9c8233fd073e3a2215",
            "60592fab8f8f47b389842ea1e6f40273",
            "474c776785fd460d9f4171d1abcb671d",
            "6c42fe4d68ed4fdc85b93b22d85b76b1",
            "733bfbc10d554c06a94f063ab6bd825c",
            "5afa80ae98f54c9fa7753fe9e03886da",
            "6a7ea26c2547494ebcb7137751daf4a5"
          ]
        }
      },
      "source": [
        "# This is what was talked about in the video for memory management\n",
        "validations = []\n",
        "losses = []\n",
        "accuracies = []\n",
        "\n",
        "def scope():\n",
        "  try:\n",
        "    #your code for calling dataset and dataloader\n",
        "    gc.collect()\n",
        "    # print(torch.cuda.memory_allocated() / 1e9)\n",
        "    train_dataset = CancerDataset(\"/tmp/cancerdata\", train=True)\n",
        "    val_dataset = CancerDataset(\"/tmp/cancerdata\", train=False)\n",
        "    model = CancerDetection()\n",
        "    model.cuda()\n",
        "    # print('model size')\n",
        "    # for p in model.parameters():\n",
        "    #   print(p.size())\n",
        "    optimizer = optim.Adam(model.parameters(), lr=1e-4)\n",
        "    objective = nn.CrossEntropyLoss()\n",
        "    train_loader = DataLoader(train_dataset, batch_size=4, num_workers=4, pin_memory=True)\n",
        "    val_loader = DataLoader(val_dataset, batch_size=4, num_workers=4, pin_memory=True)\n",
        "\n",
        "    num_epochs = 1\n",
        "    update_batch = 50\n",
        "    batch_accuracies = []\n",
        "    loop = tqdm(total=len(train_loader) * num_epochs, position=0)\n",
        "\n",
        "\n",
        "    def update_scope(epoch, loop):\n",
        "      torch.no_grad()\n",
        "      model.eval()\n",
        "      torch.cuda.empty_cache()\n",
        "      gc.collect()\n",
        "      mem = torch.cuda.memory_allocated() / 1e9\n",
        "\n",
        "      loop.set_description('epoch:{} loss:{:.4f} mem:{:.2f}'.format(epoch, losses[-1], mem))\n",
        "      # loop.update(update_batch)\n",
        "\n",
        "      validation_losses = []\n",
        "      validation_accuracies = []\n",
        "      for x_val, y_val in val_loader:\n",
        "        gc.collect()\n",
        "        torch.cuda.empty_cache()\n",
        "        x_val = x_val.cuda()\n",
        "        y_val = y_val.cuda()\n",
        "        y_hat = model(x_val)\n",
        "        validation_losses.append(objective(y_hat, y_val.long()).item())\n",
        "        validation_accuracies.append(calc_accuracy(y_hat, y_val))\n",
        "      accuracies.append((np.mean(batch_accuracies), np.mean(validation_accuracies)))\n",
        "      validations.append((len(losses), np.mean(validation_losses)))\n",
        "\n",
        "\n",
        "    \n",
        "    #for epochs:\n",
        "    # Call your model, figure out loss and accuracy\n",
        "\n",
        "    for epoch in range(num_epochs):\n",
        "      loop = tqdm(total=len(train_loader) * num_epochs, position=0)\n",
        "      batch_accuracies = []\n",
        "\n",
        "      for batch, (x, y_truth) in enumerate(train_loader):\n",
        "        torch.enable_grad()\n",
        "        model.train()\n",
        "        x, y_truth = x.cuda(non_blocking=True), y_truth.cuda(non_blocking=True)\n",
        "\n",
        "        optimizer.zero_grad()\n",
        "        # print(x.is_cuda, y_truth.is_cuda, model.is_cuda)\n",
        "\n",
        "        y_hat = model(x)\n",
        "        loss = objective(y_hat, y_truth.long())\n",
        "\n",
        "        loss.backward()\n",
        "        losses.append(loss.item())\n",
        "        accuracy = calc_accuracy(y_hat, y_truth)\n",
        "        batch_accuracies.append(accuracy)\n",
        "\n",
        "\n",
        "        optimizer.step()\n",
        "\n",
        "        if batch % update_batch == 0:\n",
        "          # update_scope(epoch, loop)\n",
        "          mem = torch.cuda.memory_allocated() / 1e9\n",
        "\n",
        "          loop.set_description('epoch:{} loss:{:.4f} mem:{:.2f}'.format(epoch, losses[-1], mem))\n",
        "          loop.update(update_batch)\n",
        "\n",
        "\n",
        "        gc.collect()\n",
        "\n",
        "    # torch.cuda.empty_cache()\n",
        "    # gc.collect()\n",
        "    update_scope(epoch, loop)\n",
        "    loop.close()\n",
        "    \n",
        "\n",
        "\n",
        "\n",
        "\n",
        "  except:\n",
        "    __ITB__()\n",
        "    gc.collect()\n",
        "    \n",
        "scope()\n"
      ],
      "execution_count": 7,
      "outputs": [
        {
          "output_type": "stream",
          "text": [
            "Downloading http://liftothers.org/cancer_data.tar.gz to /tmp/cancerdata/cancer_data.tar.gz\n"
          ],
          "name": "stdout"
        },
        {
          "output_type": "display_data",
          "data": {
            "application/vnd.jupyter.widget-view+json": {
              "model_id": "3fef77c23bfc47e89556a612152df9d1",
              "version_minor": 0,
              "version_major": 2
            },
            "text/plain": [
              "HBox(children=(FloatProgress(value=1.0, bar_style='info', max=1.0), HTML(value='')))"
            ]
          },
          "metadata": {
            "tags": []
          }
        },
        {
          "output_type": "stream",
          "text": [
            "Extracting /tmp/cancerdata/cancer_data.tar.gz\n",
            "Untarring /tmp/cancerdata/cancer_data.tar\n"
          ],
          "name": "stdout"
        },
        {
          "output_type": "stream",
          "text": [
            "  0%|          | 0/336 [00:00<?, ?it/s]\n",
            "epoch:0 loss:0.3127 mem:0.42: : 350it [04:16,  1.36it/s]\n"
          ],
          "name": "stderr"
        }
      ]
    },
    {
      "cell_type": "markdown",
      "metadata": {
        "id": "CZ062Jv1jIIu"
      },
      "source": [
        "\n",
        "___\n",
        "\n",
        "### Part 2\n",
        "\n",
        "Plot performance over time\n",
        "\n",
        "Please generate two plots:\n",
        "\n",
        " One that shows loss on the training and validation set as a function of training time. \n",
        "\n",
        " One that shows accuracy on the training and validation set as a function of training time. \n",
        "\n",
        " Make sure your axes are labeled!\n",
        "\n",
        "**TODO:**\n",
        "\n",
        "* Plot training/validation loss as function of training time (not epochs)\n",
        "* Plot training/validation accuracy as function of training time (not epochs)\n",
        "\n",
        "**DONE:**\n"
      ]
    },
    {
      "cell_type": "code",
      "metadata": {
        "id": "mTg1jyIsYVZN",
        "outputId": "1e70c455-25f6-465f-a22b-bc84e6b09942",
        "colab": {
          "base_uri": "https://localhost:8080/",
          "height": 530
        }
      },
      "source": [
        "# Your plotting code here\n",
        "## plot\n",
        "\n",
        "a, b = zip(*validations)\n",
        "plt.plot(losses, label='train')\n",
        "plt.plot(a, b, label='val')\n",
        "plt.legend()\n",
        "plt.show()\n",
        "\n",
        "b, v = zip(*accuracies)\n",
        "plt.plot(b, label='batch accuracy')\n",
        "plt.plot(v, label='validation accuracy')\n",
        "plt.legend()\n",
        "plt.show()\n",
        "\n",
        "print('final', accuracies[-1])"
      ],
      "execution_count": 12,
      "outputs": [
        {
          "output_type": "display_data",
          "data": {
            "image/png": "[encoded data removed]",
            "text/plain": [
              "<Figure size 432x288 with 1 Axes>"
            ]
          },
          "metadata": {
            "tags": [],
            "needs_background": "light"
          }
        },
        {
          "output_type": "display_data",
          "data": {
            "image/png": "[encoded data removed]",
            "text/plain": [
              "<Figure size 432x288 with 1 Axes>"
            ]
          },
          "metadata": {
            "tags": [],
            "needs_background": "light"
          }
        },
        {
          "output_type": "stream",
          "text": [
            "final (0.8337779187020802, 0.8991825079376047)\n"
          ],
          "name": "stdout"
        }
      ]
    },
    {
      "cell_type": "markdown",
      "metadata": {
        "id": "S4s92S2_jQOG"
      },
      "source": [
        "___\n",
        "\n",
        "### Part 3\n",
        "\n",
        "Generate a prediction on the pos_test_000072.png image\n",
        "\n",
        "Calculate the output of your trained network on the pos_test_000072.png image,\n",
        "then make a hard decision (cancerous/not-cancerous) for each pixel.\n",
        "The resulting image should be black-and-white, where white pixels represent things\n",
        "you think are probably cancerous.\n",
        "\n",
        "**TODO:**\n",
        "\n",
        "**DONE:**\n",
        "\n",
        "**NOTE:**\n",
        "\n",
        "Guessing that the pixel is not cancerous every single time will give you an accuracy of ~ 85%.\n",
        "Your trained network should be able to do better than that (but you will not be graded on accuracy).\n",
        "This is the result I got after 1 hour or training.\n",
        "\n",
        "![](http://liftothers.org/dokuwiki/lib/exe/fetch.php?w=400&tok=d23e0b&media=cs501r_f2016:training_accuracy.png)\n",
        "![](http://liftothers.org/dokuwiki/lib/exe/fetch.php?w=400&tok=bb8e3c&media=cs501r_f2016:training_loss.png)"
      ]
    },
    {
      "cell_type": "code",
      "metadata": {
        "id": "XXfG3wClh8an",
        "pycharm": {
          "is_executing": false
        }
      },
      "source": [
        "# Code for testing prediction on an image\n"
      ],
      "execution_count": 9,
      "outputs": []
    }
  ]
}