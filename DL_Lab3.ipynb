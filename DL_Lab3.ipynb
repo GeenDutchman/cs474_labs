{
  "nbformat": 4,
  "nbformat_minor": 0,
  "metadata": {
    "accelerator": "GPU",
    "colab": {
      "name": "DL_Lab3.ipynb",
      "provenance": [],
      "collapsed_sections": []
    },
    "kernelspec": {
      "display_name": "Python 3",
      "language": "python",
      "name": "python3"
    },
    "language_info": {
      "codemirror_mode": {
        "name": "ipython",
        "version": 3
      },
      "file_extension": ".py",
      "mimetype": "text/x-python",
      "name": "python",
      "nbconvert_exporter": "python",
      "pygments_lexer": "ipython3",
      "version": "3.6.3"
    },
    "pycharm": {
      "stem_cell": {
        "cell_type": "raw",
        "metadata": {
          "collapsed": false
        },
        "source": []
      }
    }
  },
  "cells": [
    {
      "cell_type": "markdown",
      "metadata": {
        "id": "gpkT2EpSqL6i",
        "colab_type": "text"
      },
      "source": [
        "<a href=\"https://colab.research.google.com/github/wingated/cs474_labs_f2019/blob/master/DL_Lab3.ipynb\" target=\"_parent\"><img src=\"https://colab.research.google.com/assets/colab-badge.svg\" alt=\"Open In Colab\"/></a>"
      ]
    },
    {
      "cell_type": "markdown",
      "metadata": {
        "colab_type": "text",
        "id": "view-in-github"
      },
      "source": [
        "# Lab 3: Intro to CNNs and DNNs\n",
        "\n",
        "## Objectives\n",
        "\n",
        "* Build and train a deep conv net\n",
        "* Explore and implement various initialization techniques\n",
        "* Implement a parameterized module in Pytorch\n",
        "* Use a principled loss function\n",
        "\n",
        "## Video Tutorial\n",
        "[https://youtu.be/3TAuTcx-VCc](https://youtu.be/3TAuTcx-VCc)\n",
        "\n",
        "## Deliverable\n",
        "For this lab, you will submit an ipython notebook via learningsuite.\n",
        "This is where you build your first deep neural network!\n",
        "\n",
        "For this lab, we'll be combining several different concepts that we've covered during class,\n",
        "including new layer types, initialization strategies, and an understanding of convolutions.\n",
        "\n",
        "## Grading Standards:\n",
        "* 30% Part 0: Successfully followed lab video and typed in code\n",
        "* 20% Part 1: Re-implement Conv2D and CrossEntropy loss function\n",
        "* 20% Part 2: Implement different initialization strategies\n",
        "* 10% Part 3: Print parameters, plot train/test accuracy\n",
        "* 10% Part 4: Convolution parameters quiz\n",
        "* 10% Tidy and legible figures, including labeled axes where appropriate\n",
        "___\n",
        "\n",
        "### Part 0\n",
        "Watch and follow video tutorial:\n",
        "\n",
        "[https://youtu.be/3TAuTcx-VCc](https://youtu.be/3TAuTcx-VCc)\n",
        "\n",
        "**TODO:**\n",
        "\n",
        "* Watch tutorial\n",
        "\n",
        "**DONE:**"
      ]
    },
    {
      "cell_type": "code",
      "metadata": {
        "pycharm": {
          "name": "#%%\n"
        },
        "id": "-r3t4nnPqL6t",
        "colab_type": "code",
        "colab": {
          "base_uri": "https://localhost:8080/",
          "height": 173
        },
        "outputId": "195b3b29-b61a-4b40-9892-6d8057034c2a"
      },
      "source": [
        "!pip3 install torch\n",
        "!pip3 install torchvision\n",
        "!pip3 install tqdm"
      ],
      "execution_count": 1,
      "outputs": [
        {
          "output_type": "stream",
          "text": [
            "Requirement already satisfied: torch in /usr/local/lib/python3.6/dist-packages (1.6.0+cu101)\n",
            "Requirement already satisfied: numpy in /usr/local/lib/python3.6/dist-packages (from torch) (1.18.5)\n",
            "Requirement already satisfied: future in /usr/local/lib/python3.6/dist-packages (from torch) (0.16.0)\n",
            "Requirement already satisfied: torchvision in /usr/local/lib/python3.6/dist-packages (0.7.0+cu101)\n",
            "Requirement already satisfied: torch==1.6.0 in /usr/local/lib/python3.6/dist-packages (from torchvision) (1.6.0+cu101)\n",
            "Requirement already satisfied: numpy in /usr/local/lib/python3.6/dist-packages (from torchvision) (1.18.5)\n",
            "Requirement already satisfied: pillow>=4.1.1 in /usr/local/lib/python3.6/dist-packages (from torchvision) (7.0.0)\n",
            "Requirement already satisfied: future in /usr/local/lib/python3.6/dist-packages (from torch==1.6.0->torchvision) (0.16.0)\n",
            "Requirement already satisfied: tqdm in /usr/local/lib/python3.6/dist-packages (4.41.1)\n"
          ],
          "name": "stdout"
        }
      ]
    },
    {
      "cell_type": "markdown",
      "metadata": {
        "id": "FKLoJGI2qL7D",
        "colab_type": "text"
      },
      "source": [
        ""
      ]
    },
    {
      "cell_type": "code",
      "metadata": {
        "colab_type": "code",
        "id": "wQOefmcZVgTl",
        "colab": {}
      },
      "source": [
        "import torch\n",
        "import torch.nn as nn\n",
        "import torch.nn.functional as F\n",
        "import torch.optim as optim\n",
        "from torch.utils.data import Dataset, DataLoader\n",
        "import numpy as np\n",
        "import matplotlib.pyplot as plt\n",
        "from torchvision import transforms, utils, datasets\n",
        "from tqdm import tqdm\n",
        "from torch.nn.parameter import Parameter\n",
        "import pdb\n",
        "\n",
        "assert torch.cuda.is_available(), \"You need to request a GPU from Runtime > Change Runtime\""
      ],
      "execution_count": 2,
      "outputs": []
    },
    {
      "cell_type": "code",
      "metadata": {
        "colab_type": "code",
        "id": "Il_53HLSWPTY",
        "colab": {}
      },
      "source": [
        "from torch.nn.parameter import Parameter\n",
        "import pdb"
      ],
      "execution_count": 3,
      "outputs": []
    },
    {
      "cell_type": "code",
      "metadata": {
        "id": "Qt9jbJZx7ayz",
        "colab_type": "code",
        "colab": {}
      },
      "source": [
        "# Use the dataset class you created in lab2\n",
        "\n",
        "class LinearNetwork(nn.Module):\n",
        "  def __init__(self, dataset):\n",
        "    super(LinearNetwork, self).__init__()\n",
        "    x, y = dataset[0]\n",
        "    c, h, w = x.size()\n",
        "    out_dim = 10 # hardcoded\n",
        "\n",
        "    self.net = nn.Sequential(nn.Linear(c * h * w, 1000),\n",
        "                             nn.ReLU(),\n",
        "                             nn.Linear(1000, out_dim))\n",
        "    \n",
        "  def forward(self, x):\n",
        "    n, c, h, w = x.size()\n",
        "    flattened = x.view(n, c * h * w)\n",
        "    return self.net(flattened)\n",
        "\n",
        "class FashionMNISTProcessedDataset(Dataset):\n",
        "  def __init__(self, root, train=True):\n",
        "    self.data = datasets.FashionMNIST(root, train=train, transform=transforms.ToTensor(), download=True)\n",
        "\n",
        "  def __getitem__(self, i):\n",
        "    x, y = self.data[i]\n",
        "    return x, y\n",
        "\n",
        "  def __len__(self):\n",
        "    return len(self.data)"
      ],
      "execution_count": null,
      "outputs": []
    },
    {
      "cell_type": "code",
      "metadata": {
        "id": "867FL98k8Nkb",
        "colab_type": "code",
        "colab": {}
      },
      "source": [
        "train_dataset = FashionMNISTProcessedDataset('/tmp/fashionmnist', train=True)\n",
        "val_dataset = FashionMNISTProcessedDataset('/tmp/fashionmnist', train=False)\n",
        "model = LinearNetwork(train_dataset)\n",
        "model = model.cuda()\n",
        "train_loader = DataLoader(train_dataset, batch_size=42, pin_memory=True)\n",
        "validation_loader = DataLoader(val_dataset, batch_size=42, pin_memory=True)\n",
        "\n",
        "\n",
        "optimizer = optim.Adam(model.parameters(), lr=1e-4)\n",
        "objective = torch.nn.CrossEntropyLoss()"
      ],
      "execution_count": null,
      "outputs": []
    },
    {
      "cell_type": "code",
      "metadata": {
        "id": "cOipT1A3dqyo",
        "colab_type": "code",
        "colab": {}
      },
      "source": [
        "validation_losses = []\n",
        "train_losses = []"
      ],
      "execution_count": null,
      "outputs": []
    },
    {
      "cell_type": "code",
      "metadata": {
        "id": "rMnlf_UGdzMF",
        "colab_type": "code",
        "colab": {}
      },
      "source": [
        "num_epochs = 1\n",
        "update_epoch = 100\n",
        "for epoch in range(num_epochs):\n",
        "  loop = tqdm(total=len(train_loader) * num_epochs, position=0)\n",
        "\n",
        "  for batch, (x, y_truth) in ennumerate(train_loader):\n",
        "    # learn\n",
        "    x, y_truth = x.cuda(non_blocking=True), y_truth.cuda(non_blocking=True)\n",
        "    \n",
        "    optimizer.zero_grad()\n",
        "\n",
        "    y_hat = model(x)\n",
        "    loss = objective(y_hat, y_truth)\n",
        "\n",
        "    loss.backward()\n",
        "    accuracy = 0 # TODO: we do ourself\n",
        "    loop.set_description('epoch:{} loss:{:.4f} val_loss:{:.4f}'.format(epoch, loss.item(), validation_losses[-1]))\n",
        "    loop.update(1)\n",
        "\n",
        "    optimizer.step()\n",
        "\n",
        "    if batch % update_epoch == 0:\n",
        "      val = np.mean([objective(model(x.cuda()), y.cuda()).item() for x, y in val_loader])\n",
        "      validations.append((len(losses), val))\n",
        "\n",
        "  loop.close()\n",
        "\n"
      ],
      "execution_count": null,
      "outputs": []
    },
    {
      "cell_type": "code",
      "metadata": {
        "id": "i91yfU01gi4g",
        "colab_type": "code",
        "colab": {}
      },
      "source": [
        "## plot\n",
        "\n",
        "a, b = zip(*validations)\n",
        "plt.plot(losses, label='train')\n",
        "plt.plot(a, b, label='val')\n",
        "plt.legend()\n",
        "plt.show()"
      ],
      "execution_count": null,
      "outputs": []
    },
    {
      "cell_type": "markdown",
      "metadata": {
        "colab_type": "text",
        "id": "QY4owfQwm-Ni"
      },
      "source": [
        "___\n",
        "\n",
        "### Part 1\n",
        "Re-implement a Conv2D module with parameters and a CrossEntropy loss function.\n",
        "\n",
        "**TODO:**\n",
        "\n",
        "* CrossEntropyLoss \n",
        "* Conv2D\n",
        "\n",
        "**DONE:**\n",
        "\n",
        "___\n",
        "\n",
        "### Part 2\n",
        "Implement a few initialization strategies which can include Xe initialization\n",
        "(sometimes called Xavier), Orthogonal initialization, and uniform random.\n",
        "You can specify which strategy you want to use with a parameter. \n",
        "\n",
        "\n",
        "\n",
        "Helpful links include:\n",
        "*  [Orthogonal Initialization](https://hjweide.github.io/orthogonal-initialization-in-convolutional-layers) (or the original paper: http://arxiv.org/abs/1312.6120)\n",
        "*  http://andyljones.tumblr.com/post/110998971763/an-explanation-of-xavier-initialization\n",
        "\n",
        "**TODO:**\n",
        "* Parameterize custom Conv2D for different initilization strategies\n",
        "* Xe\n",
        "* Orthogonal\n",
        "* Uniform\n",
        "\n",
        "**DONE:**\n",
        "\n"
      ]
    },
    {
      "cell_type": "code",
      "metadata": {
        "colab_type": "code",
        "id": "RkieTbwlYWPS",
        "colab": {}
      },
      "source": [
        "class CrossEntropyLoss(nn.Module):\n",
        "  pass\n",
        "\n",
        "class Conv2d(nn.Module):\n",
        "  pass\n"
      ],
      "execution_count": null,
      "outputs": []
    },
    {
      "cell_type": "code",
      "metadata": {
        "colab_type": "code",
        "id": "d4C-_v9Hm7YE",
        "colab": {}
      },
      "source": [
        "class ConvNetwork(nn.Module):\n",
        "  pass\n"
      ],
      "execution_count": null,
      "outputs": []
    },
    {
      "cell_type": "code",
      "metadata": {
        "colab_type": "code",
        "id": "jYqywck8Wdm9",
        "pycharm": {
          "is_executing": false
        },
        "colab": {}
      },
      "source": [
        "# Initialize Datasets\n",
        "\n",
        "# Initialize DataLoaders\n",
        "\n",
        "# Initialize Model\n",
        "\n",
        "# Initialize Objective and Optimizer and other parameters\n"
      ],
      "execution_count": null,
      "outputs": []
    },
    {
      "cell_type": "code",
      "metadata": {
        "colab_type": "code",
        "id": "mTg1jyIsYVZN",
        "pycharm": {
          "is_executing": false
        },
        "colab": {}
      },
      "source": [
        "\n",
        "# Run your training and validation loop and collect stats\n"
      ],
      "execution_count": null,
      "outputs": []
    },
    {
      "cell_type": "markdown",
      "metadata": {
        "colab_type": "text",
        "id": "ronkEckHiDaU"
      },
      "source": [
        "\n",
        "___\n",
        "\n",
        "### Part 3\n",
        "Print the number of parameters in your network and plot accuracy of your training and validation \n",
        "set over time. You should experiment with some deep networks and see if you can get a network \n",
        "with close to 1,000,000 parameters.\n",
        "\n",
        "**TODO:**\n",
        "* Experiment with Deep Networks\n",
        "* Plot accuracy of training and validation set over time\n",
        "* Print out number of parameters in the model \n",
        "\n",
        "**DONE:**\n"
      ]
    },
    {
      "cell_type": "code",
      "metadata": {
        "colab_type": "code",
        "id": "PaWCKjxvyRSf",
        "pycharm": {
          "is_executing": false
        },
        "colab": {}
      },
      "source": [
        "\n",
        "# Go back up and try a few different networks and initialization strategies\n",
        "# Plot loss if you want\n",
        "# Plot accuracy\n",
        "\n"
      ],
      "execution_count": null,
      "outputs": []
    },
    {
      "cell_type": "code",
      "metadata": {
        "colab_type": "code",
        "id": "oijCR-JnyS6V",
        "pycharm": {
          "is_executing": false
        },
        "colab": {}
      },
      "source": [
        "# Compute and print the number of parameters in the model\n"
      ],
      "execution_count": null,
      "outputs": []
    },
    {
      "cell_type": "markdown",
      "metadata": {
        "colab_type": "text",
        "id": "7hXGRxUQh9gX"
      },
      "source": [
        "___\n",
        "\n",
        "### Part 4\n",
        "Learn about how convolution layers affect the shape of outputs, and answer the following quiz questions. Include these in a new markdown cell in your jupyter notebook.\n",
        "\n",
        "\n",
        "*Using a Kernel size of 3×3 what should the settings of your 2d convolution be that results in the following mappings (first answer given to you)*\n",
        "\n",
        "* (c=3, h=10, w=10) ⇒ (c=10, h=8, w=8) : (out_channels=10, kernel_size=(3, 3), padding=(0, 0))\n",
        "* (c=3, h=10, w=10) ⇒ (c=22, h=10, w=10) : **Your answer in bold here**\n",
        "* (c=3, h=10, w=10) ⇒ (c=65, h=12, w=12) : **Your answer in bold here**\n",
        "* (c=3, h=10, w=10) ⇒ (c=7, h=20, w=20) : **Your answer in bold here**\n",
        "\n",
        "*Using a Kernel size of 5×5:*)\n",
        "\n",
        "* (c=3, h=10, w=10) ⇒ (c=10, h=8, w=8) : (out_channels=10, kernel_size=(5, 5), padding=(1, 1))\n",
        "* (c=3, h=10, w=10) ⇒ (c=100, h=10, w=10) : **Your answer in bold here**\n",
        "* (c=3, h=10, w=10) ⇒ (c=23, h=12, w=12) : **Your answer in bold here**\n",
        "* (c=3, h=10, w=10) ⇒ (c=5, h=24, w=24) : **Your answer in bold here**\n",
        "\n",
        "*Using Kernel size of 5×3:*\n",
        "\n",
        "* (c=3, h=10, w=10) ⇒ (c=10, h=8, w=8) : **Your answer in bold here**\n",
        "* (c=3, h=10, w=10) ⇒ (c=100, h=10, w=10) : **Your answer in bold here**\n",
        "* (c=3, h=10, w=10) ⇒ (c=23, h=12, w=12) : **Your answer in bold here**\n",
        "* (c=3, h=10, w=10) ⇒ (c=5, h=24, w=24) : **Your answer in bold here**\n",
        "\n",
        "*Determine the kernel that requires the smallest padding size to make the following mappings possible:*\n",
        "\n",
        "* (c=3, h=10, w=10) ⇒ (c=10, h=9, w=7) : **Your answer in bold here**\n",
        "* (c=3, h=10, w=10) ⇒ (c=22, h=10, w=10) : **Your answer in bold here**\n",
        "\n",
        "**TODO:**\n",
        "\n",
        "* Answer all the questions above \n",
        "\n",
        "**DONE:**\n"
      ]
    },
    {
      "cell_type": "code",
      "metadata": {
        "colab_type": "code",
        "id": "XXfG3wClh8an",
        "pycharm": {
          "is_executing": false
        },
        "colab": {}
      },
      "source": [
        "# Write some test code for checking the answers for these problems (example shown in the video)\n"
      ],
      "execution_count": null,
      "outputs": []
    }
  ]
}